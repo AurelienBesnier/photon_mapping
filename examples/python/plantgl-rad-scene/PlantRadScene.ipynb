{
 "cells": [
  {
   "cell_type": "markdown",
   "id": "0c1af954",
   "metadata": {},
   "source": [
    "Import the modules necessary for simulation"
   ]
  },
  {
   "cell_type": "code",
   "execution_count": 1,
   "id": "2cce631a-79d1-45f0-b96b-cb7a11d605e4",
   "metadata": {},
   "outputs": [],
   "source": [
    "from photonmap.Simulator import *"
   ]
  },
  {
   "cell_type": "markdown",
   "id": "605313ff",
   "metadata": {},
   "source": [
    "Setup configuration"
   ]
  },
  {
   "cell_type": "code",
   "execution_count": 2,
   "id": "669d08f6",
   "metadata": {},
   "outputs": [],
   "source": [
    "simulator = Simulator()\n",
    "simulator.readConfiguration(\"simulation.ini\")\n",
    "simulator.addEnvFromFile(\"./assets/testChamber.rad\", \"./PO\")\n",
    "simulator.addVirtualDiskCaptorsFromFile(\"./captors/captors_expe1.csv\")\n",
    "#simulator.addFaceCaptorsFromLpyFile(\"./assets/rose-simple4.lpy\", Vec3(1280.0, 860.0, 980.0))"
   ]
  },
  {
   "cell_type": "markdown",
   "id": "847b8441",
   "metadata": {},
   "source": [
    "Run the simulation"
   ]
  },
  {
   "cell_type": "code",
   "execution_count": 3,
   "id": "0926525d",
   "metadata": {},
   "outputs": [
    {
     "name": "stdout",
     "output_type": "stream",
     "text": [
      "Wavelength: 600 - 655\n",
      "Transparent material: Makrolon\n",
      "Build photonMap...Backface Culling ON\n",
      "\n",
      "Done!\n",
      "calculating captor energy...\n",
      "Maximum number of threads is 8\n",
      "nb photons per lights: 1250000\n",
      "\n",
      "Tracing photons from light n° 1/8...\n",
      "Tracing photons from light n° 2/8...\n",
      "Tracing photons from light n° 3/8...\n",
      "Tracing photons from light n° 4/8...\n",
      "Tracing photons from light n° 5/8...\n",
      "Tracing photons from light n° 6/8...\n",
      "Tracing photons from light n° 7/8...\n",
      "Tracing photons from light n° 8/8...\n",
      "Max depth possible: 30\n",
      "Time taken: 3.3932669162750244\n",
      "Wavelength: 655 - 665\n",
      "Transparent material: Makrolon\n",
      "Build photonMap...\n",
      "Backface Culling ON\n",
      "Maximum number of threads is 8\n",
      "nb photons per lights: 1250000\n",
      "\n",
      "Tracing photons from light n° 1/8...\n",
      "Tracing photons from light n° 2/8...\n",
      "Tracing photons from light n° 3/8...\n",
      "Tracing photons from light n° 4/8...\n",
      "Tracing photons from light n° 5/8...\n",
      "Tracing photons from light n° 6/8...\n",
      "Tracing photons from light n° 7/8...\n",
      "Tracing photons from light n° 8/8...\n",
      "Max depth possible: 32\n",
      "Done!\n",
      "calculating captor energy...\n",
      "Time taken: 3.252615451812744\n"
     ]
    }
   ],
   "source": [
    "res = simulator.run()"
   ]
  },
  {
   "cell_type": "markdown",
   "id": "28775ab8",
   "metadata": {},
   "source": [
    "Calibration the result"
   ]
  },
  {
   "cell_type": "code",
   "execution_count": 4,
   "id": "83ee654a",
   "metadata": {},
   "outputs": [],
   "source": [
    "calibrated_res = simulator.calibrateResults(\"spectrum/chambre1_spectrum\", \"points_calibration.csv\")"
   ]
  },
  {
   "cell_type": "markdown",
   "id": "31ca1949",
   "metadata": {},
   "source": [
    "Write the result"
   ]
  },
  {
   "cell_type": "code",
   "execution_count": 5,
   "id": "4617bea6-8395-4691-a5a3-9134da70c813",
   "metadata": {},
   "outputs": [
    {
     "name": "stdout",
     "output_type": "stream",
     "text": [
      "Done write captor energy!\n"
     ]
    }
   ],
   "source": [
    "res.writeResults()"
   ]
  },
  {
   "cell_type": "markdown",
   "id": "2415595c",
   "metadata": {},
   "source": [
    "Visualize scene with Ipython"
   ]
  },
  {
   "cell_type": "code",
   "execution_count": 6,
   "id": "b36b1566",
   "metadata": {},
   "outputs": [
    {
     "name": "stderr",
     "output_type": "stream",
     "text": [
      "qt.qpa.plugin: Could not find the Qt platform plugin \"wayland\" in \"\"\n",
      "Application.setStyle(Fusion)\n"
     ]
    }
   ],
   "source": [
    "%gui qt5\n",
    "simulator.visualiserSimulationScene(\"ipython\")"
   ]
  },
  {
   "cell_type": "markdown",
   "id": "a8512d5a",
   "metadata": {},
   "source": [
    "Visualize scene with PglJupyter"
   ]
  },
  {
   "cell_type": "code",
   "execution_count": 7,
   "id": "230e970a-20c1-4911-a6b9-857153ad407b",
   "metadata": {},
   "outputs": [
    {
     "data": {
      "application/vnd.jupyter.widget-view+json": {
       "model_id": "c7cd26843fd541df9c07211feab60161",
       "version_major": 2,
       "version_minor": 0
      },
      "text/plain": [
       "SceneWidget(scenes=[{'id': 'vI9kbRzfSnGuHdpNIqbXdvk2n', 'data': b'x\\xda\\xec\\xdd\\x8f\\x9bcyA\\xef\\xf9\\x1e@eDp\\x04…"
      ]
     },
     "execution_count": 7,
     "metadata": {},
     "output_type": "execute_result"
    }
   ],
   "source": [
    "simulator.visualiserSimulationScene(\"pgljupyter\")"
   ]
  },
  {
   "cell_type": "markdown",
   "id": "06d92257",
   "metadata": {},
   "source": [
    "Test Tmin in complete scene"
   ]
  },
  {
   "cell_type": "code",
   "execution_count": 8,
   "id": "bb8c943d-231b-41ef-b0d1-6cfaa480f0e7",
   "metadata": {},
   "outputs": [
    {
     "name": "stdout",
     "output_type": "stream",
     "text": [
      "Transparent material: Makrolon\n",
      "---------------------------------\n",
      "Test Tmin = 1e-06\n",
      "Backface Culling ON\n",
      "Number of photons received in total is 5321\n",
      "---------------------------------\n",
      "---------------------------------\n",
      "Test Tmin = 1e-05\n",
      "Maximum number of threads is 8\n",
      "nb photons per lights: 125000\n",
      "\n",
      "Tracing photons from light n° 1/8...\n",
      "Tracing photons from light n° 2/8...\n",
      "Tracing photons from light n° 3/8...\n",
      "Tracing photons from light n° 4/8...\n",
      "Tracing photons from light n° 5/8...\n",
      "Tracing photons from light n° 6/8...\n",
      "Tracing photons from light n° 7/8...\n",
      "Tracing photons from light n° 8/8...\n",
      "Max depth possible: 25\n",
      "Maximum number of threads is 8\n",
      "nb photons per lights: 125000\n",
      "\n",
      "Tracing photons from light n° 1/8...\n",
      "Tracing photons from light n° 2/8...\n",
      "Tracing photons from light n° 3/8...\n",
      "Tracing photons from light n° 4/8...\n",
      "Tracing photons from light n° 5/8...\n",
      "Tracing photons from light n° 6/8...\n",
      "Tracing photons from light n° 7/8...\n",
      "Tracing photons from light n° 8/8...\n",
      "Max depth possible: 25\n",
      "Number of photons received in total is 5339\n",
      "---------------------------------\n",
      "---------------------------------\n",
      "Test Tmin = 0.0001\n",
      "Maximum number of threads is 8\n",
      "nb photons per lights: 125000\n",
      "\n",
      "Tracing photons from light n° 1/8...\n",
      "Tracing photons from light n° 2/8...\n",
      "Tracing photons from light n° 3/8...\n",
      "Tracing photons from light n° 4/8...\n",
      "Tracing photons from light n° 5/8...\n",
      "Tracing photons from light n° 6/8...\n",
      "Tracing photons from light n° 7/8...\n",
      "Tracing photons from light n° 8/8...\n",
      "Max depth possible: 30\n",
      "Number of photons received in total is 5029\n",
      "---------------------------------\n",
      "---------------------------------\n",
      "Test Tmin = 0.001\n",
      "Number of photons received in total isMaximum number of threads is 8\n",
      "nb photons per lights: 125000\n",
      "\n",
      "Tracing photons from light n° 1/8...\n",
      "Tracing photons from light n° 2/8...\n",
      "Tracing photons from light n° 3/8...\n",
      "Tracing photons from light n° 4/8...\n",
      "Tracing photons from light n° 5/8...\n",
      "Tracing photons from light n° 6/8...\n",
      "Tracing photons from light n° 7/8...\n",
      "Tracing photons from light n° 8/8...\n",
      "Max depth possible: 30\n",
      " 4876\n",
      "---------------------------------\n",
      "---------------------------------\n",
      "Test Tmin = 0.01\n",
      "Maximum number of threads is 8\n",
      "nb photons per lights: 125000\n",
      "\n",
      "Tracing photons from light n° 1/8...\n",
      "Tracing photons from light n° 2/8...\n",
      "Tracing photons from light n° 3/8...\n",
      "Tracing photons from light n° 4/8...\n",
      "Tracing photons from light n° 5/8...\n",
      "Tracing photons from light n° 6/8...\n",
      "Tracing photons from light n° 7/8...\n",
      "Tracing photons from light n° 8/8...\n",
      "Max depth possible: 30\n",
      "Number of photons received in total is 4877\n",
      "---------------------------------\n",
      "---------------------------------\n",
      "Test Tmin = 0.1\n",
      "Maximum number of threads is 8\n",
      "nb photons per lights: 125000\n",
      "\n",
      "Tracing photons from light n° 1/8...\n",
      "Tracing photons from light n° 2/8...\n",
      "Tracing photons from light n° 3/8...\n",
      "Tracing photons from light n° 4/8...\n",
      "Tracing photons from light n° 5/8...\n",
      "Tracing photons from light n° 6/8...\n",
      "Tracing photons from light n° 7/8...\n",
      "Tracing photons from light n° 8/8...\n",
      "Max depth possible: 30\n",
      "Number of photons received in total is 4890\n",
      "---------------------------------\n",
      "---------------------------------\n",
      "Test Tmin = 1.0\n",
      "Maximum number of threads is 8\n",
      "nb photons per lights: 125000\n",
      "\n",
      "Tracing photons from light n° 1/8...\n",
      "Tracing photons from light n° 2/8...\n",
      "Tracing photons from light n° 3/8...\n",
      "Tracing photons from light n° 4/8...\n",
      "Tracing photons from light n° 5/8...\n",
      "Tracing photons from light n° 6/8...\n",
      "Tracing photons from light n° 7/8...\n",
      "Tracing photons from light n° 8/8...\n",
      "Max depth possible: 33\n",
      "Number of photons received in total is 4929\n",
      "---------------------------------\n",
      "---------------------------------\n",
      "Test Tmin = 10.0\n",
      "Maximum number of threads is 8\n",
      "nb photons per lights: 125000\n",
      "\n",
      "Tracing photons from light n° 1/8...\n",
      "Tracing photons from light n° 2/8...\n",
      "Tracing photons from light n° 3/8...\n",
      "Tracing photons from light n° 4/8...\n",
      "Tracing photons from light n° 5/8...\n",
      "Tracing photons from light n° 6/8...\n",
      "Tracing photons from light n° 7/8...\n",
      "Tracing photons from light n° 8/8...\n",
      "Max depth possible: 28\n",
      "Number of photons received in total is 5633\n",
      "---------------------------------\n",
      "---------------------------------\n",
      "Test Tmin = 100.0\n",
      "Maximum number of threads is 8\n",
      "nb photons per lights: 125000\n",
      "\n",
      "Tracing photons from light n° 1/8...\n",
      "Tracing photons from light n° 2/8...\n",
      "Tracing photons from light n° 3/8...\n",
      "Tracing photons from light n° 4/8...\n",
      "Tracing photons from light n° 5/8...\n",
      "Tracing photons from light n° 6/8...\n",
      "Tracing photons from light n° 7/8...\n",
      "Tracing photons from light n° 8/8...\n",
      "Max depth possible: 28\n",
      "Number of photons received in total is 5778\n",
      "---------------------------------\n",
      "---------------------------------\n",
      "Test Tmin = 1000.0\n",
      "Maximum number of threads is 8\n",
      "nb photons per lights: 125000\n",
      "\n",
      "Tracing photons from light n° 1/8...\n",
      "Tracing photons from light n° 2/8...\n",
      "Tracing photons from light n° 3/8...\n",
      "Tracing photons from light n° 4/8...\n",
      "Tracing photons from light n° 5/8...\n",
      "Tracing photons from light n° 6/8...\n",
      "Tracing photons from light n° 7/8...\n",
      "Tracing photons from light n° 8/8...\n",
      "Max depth possible: 12\n",
      "Number of photons received in total is 2009\n",
      "---------------------------------\n",
      "---------------------------------\n",
      "Test Tmin = 10000.0\n",
      "Maximum number of threads is 8\n",
      "nb photons per lights: 125000\n",
      "\n",
      "Tracing photons from light n° 1/8...\n",
      "Tracing photons from light n° 2/8...\n",
      "Tracing photons from light n° 3/8...\n",
      "Tracing photons from light n° 4/8...\n",
      "Tracing photons from light n° 5/8...\n",
      "Tracing photons from light n° 6/8...\n",
      "Tracing photons from light n° 7/8...\n",
      "Tracing photons from light n° 8/8...\n",
      "Max depth possible: 0\n",
      "Number of photons received in total is 0\n",
      "---------------------------------\n"
     ]
    },
    {
     "data": {
      "image/png": "[encoded data removed]",
      "text/plain": [
       "<Figure size 640x480 with 1 Axes>"
      ]
     },
     "metadata": {},
     "output_type": "display_data"
    }
   ],
   "source": [
    "simulator.test_t_min(int(1e6), 1e-6, 11, False)"
   ]
  },
  {
   "cell_type": "markdown",
   "id": "40364181",
   "metadata": {},
   "source": [
    "Test Tmin in scene with only lamps and captors"
   ]
  },
  {
   "cell_type": "code",
   "execution_count": 9,
   "id": "ddd5072b",
   "metadata": {},
   "outputs": [
    {
     "name": "stdout",
     "output_type": "stream",
     "text": [
      "Transparent material: Makrolon\n",
      "---------------------------------Backface Culling ON\n",
      "\n",
      "Test Tmin = 1e-06\n",
      "Number of photons received in total is 27622\n",
      "---------------------------------\n",
      "---------------------------------\n",
      "Test Tmin = 1e-05\n",
      "Maximum number of threads is 8\n",
      "nb photons per lights: 1250000\n",
      "\n",
      "Tracing photons from light n° 1/8...\n",
      "Tracing photons from light n° 2/8...is\u001b[A\u001b[2K\n",
      "Tracing photons from light n° 3/8...\n",
      "Tracing photons from light n° 4/8...\n",
      "Tracing photons from light n° 5/8...\n",
      "Tracing photons from light n° 6/8...\n",
      "Tracing photons from light n° 7/8...\n",
      "Tracing photons from light n° 8/8...\n",
      "Max depth possible: 3\n",
      "Maximum number of threads is 8\n",
      "nb photons per lights: 1250000\n",
      "\n",
      "Tracing photons from light n° 1/8...\n",
      "Tracing photons from light n° 2/8...\n",
      "Tracing photons from light n° 3/8...\n",
      "Tracing photons from light n° 4/8...\n",
      "Tracing photons from light n° 5/8...\n",
      "Tracing photons from light n° 6/8...\n",
      "Tracing photons from light n° 7/8...\n",
      "Tracing photons from light n° 8/8...\n",
      "Max depth possible: 3\n",
      " 27622\n",
      "---------------------------------\n",
      "---------------------------------\n",
      "Test Tmin = 0.0001\n",
      "Maximum number of threads is 8\n",
      "nb photons per lights: 1250000\n",
      "\n",
      "Tracing photons from light n° 1/8...\n",
      "Tracing photons from light n° 2/8...\n",
      "Tracing photons from light n° 3/8...\n",
      "Tracing photons from light n° 4/8...\n",
      "Tracing photons from light n° 5/8...\n",
      "Tracing photons from light n° 6/8...\n",
      "Tracing photons from light n° 7/8...\n",
      "Tracing photons from light n° 8/8...\n",
      "Max depth possible: 3\n",
      "Number of photons received in total is 27619\n",
      "---------------------------------\n",
      "---------------------------------\n",
      "Test Tmin = 0.001\n",
      "Number of photons received in total is 24940\n",
      "---------------------------------\n",
      "---------------------------------\n",
      "Test Tmin = 0.01\n",
      "Number of photons received in total is 24940\n",
      "---------------------------------\n",
      "---------------------------------\n",
      "Test Tmin = 0.1\n",
      "Maximum number of threads is 8\n",
      "nb photons per lights: 1250000\n",
      "\n",
      "Tracing photons from light n° 1/8...\n",
      "Tracing photons from light n° 2/8...\n",
      "Tracing photons from light n° 3/8...\n",
      "Tracing photons from light n° 4/8...\n",
      "Tracing photons from light n° 5/8...\n",
      "Tracing photons from light n° 6/8...\n",
      "Tracing photons from light n° 7/8...\n",
      "Tracing photons from light n° 8/8...\n",
      "Max depth possible: 2\n",
      "Maximum number of threads is 8\n",
      "nb photons per lights: 1250000\n",
      "\n",
      "Tracing photons from light n° 1/8...\n",
      "Tracing photons from light n° 2/8...\n",
      "Tracing photons from light n° 3/8...\n",
      "Tracing photons from light n° 4/8...\n",
      "Tracing photons from light n° 5/8...\n",
      "Tracing photons from light n° 6/8...\n",
      "Tracing photons from light n° 7/8...\n",
      "Tracing photons from light n° 8/8...\n",
      "Max depth possible: 2\n",
      "Maximum number of threads is 8\n",
      "nb photons per lights: 1250000\n",
      "\n",
      "Tracing photons from light n° 1/8...\n",
      "Tracing photons from light n° 2/8...\n",
      "Tracing photons from light n° 3/8...\n",
      "Tracing photons from light n° 4/8...\n",
      "Tracing photons from light n° 5/8...\n",
      "Tracing photons from light n° 6/8...\n",
      "Tracing photons from light n° 7/8...\n",
      "Tracing photons from light n° 8/8...\n",
      "Max depth possible: 2\n",
      "Number of photons received in total is 24940\n",
      "---------------------------------\n",
      "---------------------------------\n",
      "Test Tmin = 1.0\n",
      "Number of photons received in total isMaximum number of threads is 8\n",
      " 24940\n",
      "---------------------------------\n",
      "---------------------------------\n",
      "Test Tmin = 10.0\n",
      "Number of photons received in total is 24940\n",
      "---------------------------------\n",
      "---------------------------------\n",
      "Test Tmin = 100.0\n",
      "nb photons per lights: 1250000\n",
      "\n",
      "Tracing photons from light n° 1/8...\n",
      "Tracing photons from light n° 2/8...\n",
      "Tracing photons from light n° 3/8...\n",
      "Tracing photons from light n° 4/8...\n",
      "Tracing photons from light n° 5/8...\n",
      "Tracing photons from light n° 6/8...\n",
      "Tracing photons from light n° 7/8...\n",
      "Tracing photons from light n° 8/8...\n",
      "Max depth possible: 2\n",
      "Maximum number of threads is 8\n",
      "nb photons per lights: 1250000\n",
      "\n",
      "Tracing photons from light n° 1/8...\n",
      "Tracing photons from light n° 2/8...\n",
      "Tracing photons from light n° 3/8...\n",
      "Tracing photons from light n° 4/8...\n",
      "Tracing photons from light n° 5/8...\n",
      "Tracing photons from light n° 6/8...\n",
      "Tracing photons from light n° 7/8...\n",
      "Tracing photons from light n° 8/8...\n",
      "Max depth possible: 2\n",
      "Maximum number of threads is 8\n",
      "nb photons per lights: 1250000\n",
      "\n",
      "Tracing photons from light n° 1/8...\n",
      "Number of photons received in total is 24940\n",
      "---------------------------------\n",
      "---------------------------------\n",
      "Test Tmin = 1000.0\n",
      "Number of photons received in total is 16058\n",
      "---------------------------------\n",
      "---------------------------------\n",
      "Test Tmin = 10000.0\n",
      "Tracing photons from light n° 2/8...\n",
      "Tracing photons from light n° 3/8...\n",
      "Tracing photons from light n° 4/8...\n",
      "Tracing photons from light n° 5/8...\n",
      "Tracing photons from light n° 6/8...\n",
      "Tracing photons from light n° 7/8...\n",
      "Tracing photons from light n° 8/8...\n",
      "Max depth possible: 2\n",
      "Maximum number of threads is 8\n",
      "nb photons per lights: 1250000\n",
      "\n",
      "Tracing photons from light n° 1/8...\n",
      "Tracing photons from light n° 2/8...\n",
      "Tracing photons from light n° 3/8...\n",
      "Tracing photons from light n° 4/8...\n",
      "Tracing photons from light n° 5/8...\n",
      "Tracing photons from light n° 6/8...\n",
      "Tracing photons from light n° 7/8...\n",
      "Tracing photons from light n° 8/8...\n",
      "Max depth possible: 1\n",
      "Maximum number of threads is 8\n",
      "nb photons per lights: 1250000\n",
      "\n",
      "Tracing photons from light n° 1/8...\n",
      "Tracing photons from light n° 2/8...\n",
      "Tracing photons from light n° 3/8...\n",
      "\u001b[Number of photons received in total is 0\n",
      "---------------------------------\n",
      "Tracing photons from light n° 4/8...\n",
      "Tracing photons from light n° 5/8...\n",
      "Tracing photons from light n° 6/8...\n",
      "Tracing photons from light n° 7/8...\n",
      "Tracing photons from light n° 8/8...\n",
      "Max depth possible: 0\n"
     ]
    },
    {
     "data": {
      "image/png": "[encoded data removed]",
      "text/plain": [
       "<Figure size 640x480 with 1 Axes>"
      ]
     },
     "metadata": {},
     "output_type": "display_data"
    }
   ],
   "source": [
    "simulator.test_t_min(int(1e7), 1e-6, 11, True)"
   ]
  },
  {
   "cell_type": "code",
   "execution_count": null,
   "id": "133de2b1",
   "metadata": {},
   "outputs": [],
   "source": []
  }
 ],
 "metadata": {
  "kernelspec": {
   "display_name": "Python 3 (ipykernel)",
   "language": "python",
   "name": "python3"
  },
  "language_info": {
   "codemirror_mode": {
    "name": "ipython",
    "version": 3
   },
   "file_extension": ".py",
   "mimetype": "text/x-python",
   "name": "python",
   "nbconvert_exporter": "python",
   "pygments_lexer": "ipython3",
   "version": "3.12.3"
  }
 },
 "nbformat": 4,
 "nbformat_minor": 5
}
