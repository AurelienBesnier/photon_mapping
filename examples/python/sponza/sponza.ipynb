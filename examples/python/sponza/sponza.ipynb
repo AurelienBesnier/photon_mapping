{
 "cells": [
  {
   "cell_type": "markdown",
   "id": "ae1ae00c-c938-4214-a395-8b8ccf56813a",
   "metadata": {},
   "source": [
    "# Sponza\n",
    "Model source: https://github.com/jimmiebergmann/Sponza/"
   ]
  },
  {
   "cell_type": "code",
   "execution_count": null,
   "id": "e7be5cb0-12f4-4423-91db-c4053cf7ab10",
   "metadata": {},
   "outputs": [],
   "source": [
    "from pathlib import Path\n",
    "\n",
    "import openalea.plantgl.all as pgl\n",
    "from openalea.spice.simulator import Simulator\n",
    "from openalea.spice import Vec3\n",
    "from openalea.spice.common.convert import pgl_to_spice\n",
    "from oawidgets.plantgl import PlantGL\n",
    "\n",
    "pgl_scene = pgl.Scene(str(Path.home() / 'models/Sponza/sponza.obj'))"
   ]
  },
  {
   "cell_type": "code",
   "execution_count": null,
   "id": "03ed4844-81dc-460d-9941-f852e2ec1670",
   "metadata": {},
   "outputs": [],
   "source": [
    "sp_scene = pgl_to_spice(pgl_scene)"
   ]
  },
  {
   "cell_type": "code",
   "execution_count": null,
   "id": "d5c3b5ee-b46e-4e1c-a3dc-925fd2e56093",
   "metadata": {
    "scrolled": true
   },
   "outputs": [],
   "source": [
    "sim = Simulator()\n",
    "sim.configuration.NB_PHOTONS = 100000\n",
    "sim.configuration.SCALE_FACTOR = 0.01\n",
    "sim.configuration.MAXIMUM_DEPTH = 25\n",
    "sim.configuration.T_MIN = 0.01\n",
    "sim.configuration.BACKFACE_CULLING = False\n",
    "sim.configuration.RENDERING = True\n",
    "sim.scene_pgl = pgl_scene\n",
    "sim.scene = sp_scene\n",
    "\n",
    "sim.addPointLight(Vec3(0,0.3,0), 100000)\n",
    "sim.run()"
   ]
  },
  {
   "cell_type": "code",
   "execution_count": null,
   "id": "d75387d4-d42e-4975-a2b4-3faffff638d9",
   "metadata": {},
   "outputs": [],
   "source": [
    "sim.visualizePhotons('oawidgets')"
   ]
  }
 ],
 "metadata": {
  "kernelspec": {
   "display_name": "Python 3 (ipykernel)",
   "language": "python",
   "name": "python3"
  },
  "language_info": {
   "codemirror_mode": {
    "name": "ipython",
    "version": 3
   },
   "file_extension": ".py",
   "mimetype": "text/x-python",
   "name": "python",
   "nbconvert_exporter": "python",
   "pygments_lexer": "ipython3",
   "version": "3.10.14"
  },
  "widgets": {
   "application/vnd.jupyter.widget-state+json": {
    "state": {},
    "version_major": 2,
    "version_minor": 0
   }
  }
 },
 "nbformat": 4,
 "nbformat_minor": 5
}
