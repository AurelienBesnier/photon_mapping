{
 "cells": [
  {
   "cell_type": "markdown",
   "id": "0c1af954",
   "metadata": {
    "editable": true,
    "slideshow": {
     "slide_type": ""
    },
    "tags": []
   },
   "source": [
    "# Simple simulation example"
   ]
  },
  {
   "cell_type": "code",
   "execution_count": 1,
   "id": "2cce631a-79d1-45f0-b96b-cb7a11d605e4",
   "metadata": {},
   "outputs": [],
   "source": [
    "from openalea.spice.simulator import Simulator\n",
    "from openalea.spice import Vec3"
   ]
  },
  {
   "cell_type": "markdown",
   "id": "605313ff",
   "metadata": {},
   "source": [
    "### Setup configuration"
   ]
  },
  {
   "cell_type": "code",
   "execution_count": 2,
   "id": "669d08f6",
   "metadata": {},
   "outputs": [],
   "source": [
    "simulator = Simulator(config_file=\"simulation.ini\")\n",
    "simulator.addVirtualDiskSensorsFromFile(\"./captors/captors_expe1.csv\")\n",
    "simulator.addFaceSensorsFromLpyFile(\n",
    "    \"./assets/rose-simple4.lpy\", Vec3(1280.0, 860.0, 980.0)\n",
    ")"
   ]
  },
  {
   "cell_type": "markdown",
   "id": "847b8441",
   "metadata": {},
   "source": [
    "### Run the simulation"
   ]
  },
  {
   "cell_type": "code",
   "execution_count": 3,
   "id": "0926525d",
   "metadata": {},
   "outputs": [
    {
     "name": "stdout",
     "output_type": "stream",
     "text": [
      "Wavelength: 600 - 655\n"
     ]
    },
    {
     "ename": "NameError",
     "evalue": "name 'po_dir' is not defined",
     "output_type": "error",
     "traceback": [
      "\u001b[0;31m---------------------------------------------------------------------------\u001b[0m",
      "\u001b[0;31mNameError\u001b[0m                                 Traceback (most recent call last)",
      "Cell \u001b[0;32mIn[3], line 1\u001b[0m\n\u001b[0;32m----> 1\u001b[0m \u001b[43msimulator\u001b[49m\u001b[38;5;241;43m.\u001b[39;49m\u001b[43mrun\u001b[49m\u001b[43m(\u001b[49m\u001b[43m)\u001b[49m\n",
      "File \u001b[0;32m~/gits/photon_mapping/src/openalea/spice/simulator.py:390\u001b[0m, in \u001b[0;36mSimulator.run\u001b[0;34m(self)\u001b[0m\n\u001b[1;32m    382\u001b[0m \u001b[38;5;28mprint\u001b[39m(\u001b[38;5;124m\"\u001b[39m\u001b[38;5;124mWavelength:\u001b[39m\u001b[38;5;124m\"\u001b[39m, current_band[\u001b[38;5;124m\"\u001b[39m\u001b[38;5;124mstart\u001b[39m\u001b[38;5;124m\"\u001b[39m], \u001b[38;5;124m\"\u001b[39m\u001b[38;5;124m-\u001b[39m\u001b[38;5;124m\"\u001b[39m, current_band[\u001b[38;5;124m\"\u001b[39m\u001b[38;5;124mend\u001b[39m\u001b[38;5;124m\"\u001b[39m])\n\u001b[1;32m    383\u001b[0m average_wavelength \u001b[38;5;241m=\u001b[39m (current_band[\u001b[38;5;124m\"\u001b[39m\u001b[38;5;124mstart\u001b[39m\u001b[38;5;124m\"\u001b[39m] \u001b[38;5;241m+\u001b[39m current_band[\u001b[38;5;124m\"\u001b[39m\u001b[38;5;124mend\u001b[39m\u001b[38;5;124m\"\u001b[39m]) \u001b[38;5;241m/\u001b[39m \u001b[38;5;241m2\u001b[39m\n\u001b[1;32m    384\u001b[0m (\n\u001b[1;32m    385\u001b[0m     \u001b[38;5;28mself\u001b[39m\u001b[38;5;241m.\u001b[39mscene,\n\u001b[1;32m    386\u001b[0m     has_virtual_sensor,\n\u001b[1;32m    387\u001b[0m     virtual_sensor_triangle_dict,\n\u001b[1;32m    388\u001b[0m     has_face_sensor,\n\u001b[1;32m    389\u001b[0m     face_sensor_triangle_dict,\n\u001b[0;32m--> 390\u001b[0m ) \u001b[38;5;241m=\u001b[39m \u001b[38;5;28;43mself\u001b[39;49m\u001b[38;5;241;43m.\u001b[39;49m\u001b[43minitSimulationScene\u001b[49m\u001b[43m(\u001b[49m\u001b[38;5;28;43mself\u001b[39;49m\u001b[38;5;241;43m.\u001b[39;49m\u001b[43mscene\u001b[49m\u001b[43m,\u001b[49m\u001b[43m \u001b[49m\u001b[43mcurrent_band\u001b[49m\u001b[43m,\u001b[49m\u001b[43m \u001b[49m\u001b[43maverage_wavelength\u001b[49m\u001b[43m)\u001b[49m\n\u001b[1;32m    392\u001b[0m \u001b[38;5;66;03m# create integrator\u001b[39;00m\n\u001b[1;32m    393\u001b[0m \u001b[38;5;28mself\u001b[39m\u001b[38;5;241m.\u001b[39mscene\u001b[38;5;241m.\u001b[39mtnear \u001b[38;5;241m=\u001b[39m \u001b[38;5;28mself\u001b[39m\u001b[38;5;241m.\u001b[39mconfiguration\u001b[38;5;241m.\u001b[39mT_MIN\n",
      "File \u001b[0;32m~/gits/photon_mapping/src/openalea/spice/simulator.py:878\u001b[0m, in \u001b[0;36mSimulator.initSimulationScene\u001b[0;34m(self, scene, current_band, average_wavelength, is_only_lamp)\u001b[0m\n\u001b[1;32m    841\u001b[0m \u001b[38;5;250m\u001b[39m\u001b[38;5;124;03m\"\"\"\u001b[39;00m\n\u001b[1;32m    842\u001b[0m \u001b[38;5;124;03mSetup all the necessary objects (environment, sensor, plant) in the\u001b[39;00m\n\u001b[1;32m    843\u001b[0m \u001b[38;5;124;03msimulation\u001b[39;00m\n\u001b[0;32m   (...)\u001b[0m\n\u001b[1;32m    875\u001b[0m \n\u001b[1;32m    876\u001b[0m \u001b[38;5;124;03m\"\"\"\u001b[39;00m\n\u001b[1;32m    877\u001b[0m \u001b[38;5;66;03m# add env\u001b[39;00m\n\u001b[0;32m--> 878\u001b[0m materials_r, materials_s, materials_t \u001b[38;5;241m=\u001b[39m \u001b[43mread_properties\u001b[49m\u001b[38;5;241;43m.\u001b[39;49m\u001b[43msetup_dataset_materials\u001b[49m\u001b[43m(\u001b[49m\n\u001b[1;32m    879\u001b[0m \u001b[43m    \u001b[49m\u001b[43mcurrent_band\u001b[49m\u001b[43m[\u001b[49m\u001b[38;5;124;43m\"\u001b[39;49m\u001b[38;5;124;43mstart\u001b[39;49m\u001b[38;5;124;43m\"\u001b[39;49m\u001b[43m]\u001b[49m\u001b[43m,\u001b[49m\u001b[43m \u001b[49m\u001b[43mcurrent_band\u001b[49m\u001b[43m[\u001b[49m\u001b[38;5;124;43m\"\u001b[39;49m\u001b[38;5;124;43mend\u001b[39;49m\u001b[38;5;124;43m\"\u001b[39;49m\u001b[43m]\u001b[49m\u001b[43m,\u001b[49m\u001b[43m \u001b[49m\u001b[38;5;28;43mself\u001b[39;49m\u001b[38;5;241;43m.\u001b[39;49m\u001b[43mconfiguration\u001b[49m\u001b[38;5;241;43m.\u001b[39;49m\u001b[43mOPTICAL_PROPERTIES_DIR\u001b[49m\n\u001b[1;32m    880\u001b[0m \u001b[43m\u001b[49m\u001b[43m)\u001b[49m\n\u001b[1;32m    882\u001b[0m \u001b[38;5;28;01mfor\u001b[39;00m sh \u001b[38;5;129;01min\u001b[39;00m \u001b[38;5;28mself\u001b[39m\u001b[38;5;241m.\u001b[39mscene_pgl:\n\u001b[1;32m    883\u001b[0m     load_environment\u001b[38;5;241m.\u001b[39maddEnvironment(\n\u001b[1;32m    884\u001b[0m         scene,\n\u001b[1;32m    885\u001b[0m         sh,\n\u001b[0;32m   (...)\u001b[0m\n\u001b[1;32m    890\u001b[0m         is_only_lamp,\n\u001b[1;32m    891\u001b[0m     )\n",
      "File \u001b[0;32m~/gits/photon_mapping/src/openalea/spice/reader/read_properties.py:65\u001b[0m, in \u001b[0;36msetup_dataset_materials\u001b[0;34m(w_start, w_end, op_dir)\u001b[0m\n\u001b[1;32m     63\u001b[0m \u001b[38;5;28;01mfor\u001b[39;00m element \u001b[38;5;129;01min\u001b[39;00m (\u001b[38;5;124m\"\u001b[39m\u001b[38;5;124mPlant\u001b[39m\u001b[38;5;124m\"\u001b[39m, \u001b[38;5;124m\"\u001b[39m\u001b[38;5;124mEnv\u001b[39m\u001b[38;5;124m\"\u001b[39m):  \u001b[38;5;66;03m# Transmittances\u001b[39;00m\n\u001b[1;32m     64\u001b[0m     files \u001b[38;5;241m=\u001b[39m []\n\u001b[0;32m---> 65\u001b[0m     dir_path_transmit \u001b[38;5;241m=\u001b[39m \u001b[43mpo_dir\u001b[49m \u001b[38;5;241m+\u001b[39m \u001b[38;5;124m\"\u001b[39m\u001b[38;5;124m/\u001b[39m\u001b[38;5;124m\"\u001b[39m \u001b[38;5;241m+\u001b[39m element \u001b[38;5;241m+\u001b[39m \u001b[38;5;124m\"\u001b[39m\u001b[38;5;124m/TransmittancesMean/\u001b[39m\u001b[38;5;124m\"\u001b[39m\n\u001b[1;32m     67\u001b[0m     \u001b[38;5;28;01mif\u001b[39;00m os\u001b[38;5;241m.\u001b[39mpath\u001b[38;5;241m.\u001b[39mexists(dir_path_transmit):\n\u001b[1;32m     68\u001b[0m         \u001b[38;5;28;01mfor\u001b[39;00m path \u001b[38;5;129;01min\u001b[39;00m os\u001b[38;5;241m.\u001b[39mlistdir(dir_path_transmit):\n",
      "\u001b[0;31mNameError\u001b[0m: name 'po_dir' is not defined"
     ]
    }
   ],
   "source": [
    "simulator.run()"
   ]
  },
  {
   "cell_type": "markdown",
   "id": "28775ab8",
   "metadata": {},
   "source": [
    "### Calibration the result"
   ]
  },
  {
   "cell_type": "code",
   "execution_count": null,
   "id": "83ee654a",
   "metadata": {},
   "outputs": [],
   "source": [
    "# calibrated_res = simulator.calibrateResults(\"spectrum/chambre1_spectrum\", \"points_calibration.csv\")"
   ]
  },
  {
   "cell_type": "markdown",
   "id": "31ca1949",
   "metadata": {},
   "source": [
    "### Write the result"
   ]
  },
  {
   "cell_type": "code",
   "execution_count": null,
   "id": "4617bea6-8395-4691-a5a3-9134da70c813",
   "metadata": {},
   "outputs": [],
   "source": [
    "# simulator.results.writeResults()"
   ]
  },
  {
   "cell_type": "markdown",
   "id": "a8512d5a",
   "metadata": {},
   "source": [
    "### Visualize scene with OAWidgets"
   ]
  },
  {
   "cell_type": "code",
   "execution_count": null,
   "id": "230e970a-20c1-4911-a6b9-857153ad407b",
   "metadata": {
    "editable": true,
    "slideshow": {
     "slide_type": ""
    },
    "tags": []
   },
   "outputs": [],
   "source": [
    "simulator.visualizeScene(\"oawidgets\")"
   ]
  },
  {
   "cell_type": "code",
   "execution_count": null,
   "id": "036f7d1a-8c20-4271-b215-fa6609421148",
   "metadata": {},
   "outputs": [],
   "source": [
    "simulator.visualizeResults(\"oawidgets\")"
   ]
  },
  {
   "cell_type": "code",
   "execution_count": null,
   "id": "13059277",
   "metadata": {
    "editable": true,
    "slideshow": {
     "slide_type": ""
    },
    "tags": []
   },
   "outputs": [],
   "source": [
    "simulator.visualizePhotons(\"oawidgets\")"
   ]
  },
  {
   "cell_type": "code",
   "execution_count": null,
   "id": "f812c677-75a1-4bbc-9c5f-8a9079adc490",
   "metadata": {},
   "outputs": [],
   "source": [
    "simulator.results.display_face_sensor()"
   ]
  },
  {
   "cell_type": "code",
   "execution_count": null,
   "id": "e3cee3c8-d541-4245-a32b-64d28ef62ce3",
   "metadata": {},
   "outputs": [],
   "source": [
    "simulator.results.display_virtual_sensor()"
   ]
  }
 ],
 "metadata": {
  "kernelspec": {
   "display_name": "Python 3 (ipykernel)",
   "language": "python",
   "name": "python3"
  },
  "language_info": {
   "codemirror_mode": {
    "name": "ipython",
    "version": 3
   },
   "file_extension": ".py",
   "mimetype": "text/x-python",
   "name": "python",
   "nbconvert_exporter": "python",
   "pygments_lexer": "ipython3",
   "version": "3.12.3"
  },
  "widgets": {
   "application/vnd.jupyter.widget-state+json": {
    "state": {},
    "version_major": 2,
    "version_minor": 0
   }
  }
 },
 "nbformat": 4,
 "nbformat_minor": 5
}
