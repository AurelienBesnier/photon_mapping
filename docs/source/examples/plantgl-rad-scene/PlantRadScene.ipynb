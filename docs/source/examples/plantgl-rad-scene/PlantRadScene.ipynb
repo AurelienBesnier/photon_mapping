{
 "cells": [
  {
   "cell_type": "markdown",
   "id": "0c1af954",
   "metadata": {},
   "source": [
    "# Simple simulation example"
   ]
  },
  {
   "cell_type": "code",
   "execution_count": null,
   "id": "2cce631a-79d1-45f0-b96b-cb7a11d605e4",
   "metadata": {},
   "outputs": [],
   "source": [
    "from openalea.spice.simulator import Simulator\n",
    "from openalea.spice import Vec3"
   ]
  },
  {
   "cell_type": "markdown",
   "id": "605313ff",
   "metadata": {},
   "source": [
    "### Setup configuration"
   ]
  },
  {
   "cell_type": "code",
   "execution_count": null,
   "id": "669d08f6",
   "metadata": {},
   "outputs": [],
   "source": [
    "simulator = Simulator()\n",
    "simulator.readConfiguration(\"simulation.ini\")\n",
    "simulator.addEnvFromFile(\"./assets/testChamber.rad\", \"./PO\")\n",
    "simulator.addVirtualDiskSensorsFromFile(\"./captors/captors_expe1.csv\")\n",
    "simulator.addFaceSensorsFromLpyFile(\"./assets/rose-simple4.lpy\", Vec3(1280.0, 860.0, 980.0))"
   ]
  },
  {
   "cell_type": "markdown",
   "id": "847b8441",
   "metadata": {},
   "source": [
    "### Run the simulation"
   ]
  },
  {
   "cell_type": "code",
   "execution_count": null,
   "id": "0926525d",
   "metadata": {},
   "outputs": [],
   "source": [
    "simulator.run()"
   ]
  },
  {
   "cell_type": "markdown",
   "id": "28775ab8",
   "metadata": {},
   "source": [
    "### Calibration the result"
   ]
  },
  {
   "cell_type": "code",
   "execution_count": null,
   "id": "83ee654a",
   "metadata": {},
   "outputs": [],
   "source": [
    "# calibrated_res = simulator.calibrateResults(\"spectrum/chambre1_spectrum\", \"points_calibration.csv\")"
   ]
  },
  {
   "cell_type": "markdown",
   "id": "31ca1949",
   "metadata": {},
   "source": [
    "### Write the result"
   ]
  },
  {
   "cell_type": "code",
   "execution_count": null,
   "id": "4617bea6-8395-4691-a5a3-9134da70c813",
   "metadata": {},
   "outputs": [],
   "source": [
    "simulator.results.writeResults()"
   ]
  },
  {
   "cell_type": "markdown",
   "id": "a8512d5a",
   "metadata": {},
   "source": [
    "### Visualize scene with OAWidgets"
   ]
  },
  {
   "cell_type": "code",
   "execution_count": null,
   "id": "230e970a-20c1-4911-a6b9-857153ad407b",
   "metadata": {
    "scrolled": true
   },
   "outputs": [],
   "source": [
    "simulator.visualizeScene(\"oawidgets\")"
   ]
  },
  {
   "cell_type": "code",
   "execution_count": null,
   "id": "036f7d1a-8c20-4271-b215-fa6609421148",
   "metadata": {},
   "outputs": [],
   "source": [
    "simulator.visualizeResults(\"oawidgets\")"
   ]
  },
  {
   "cell_type": "code",
   "execution_count": null,
   "id": "13059277",
   "metadata": {},
   "outputs": [],
   "source": [
    "simulator.visualizePhotons(\"oawidgets\")"
   ]
  },
  {
   "cell_type": "markdown",
   "id": "06d92257",
   "metadata": {},
   "source": [
    "### Test Tmin in complete scene"
   ]
  },
  {
   "cell_type": "code",
   "execution_count": null,
   "id": "bb8c943d-231b-41ef-b0d1-6cfaa480f0e7",
   "metadata": {},
   "outputs": [],
   "source": [
    "simulator.test_t_min(int(1e6), 1e-6, 11, False)"
   ]
  },
  {
   "cell_type": "markdown",
   "id": "40364181",
   "metadata": {},
   "source": [
    "### Test Tmin in scene with only lamps and captors"
   ]
  },
  {
   "cell_type": "code",
   "execution_count": null,
   "id": "ddd5072b",
   "metadata": {},
   "outputs": [],
   "source": [
    "simulator.test_t_min(int(1e7), 1e-6, 11, True)"
   ]
  }
 ],
 "metadata": {
  "kernelspec": {
   "display_name": "Python 3 (ipykernel)",
   "language": "python",
   "name": "python3"
  },
  "language_info": {
   "codemirror_mode": {
    "name": "ipython",
    "version": 3
   },
   "file_extension": ".py",
   "mimetype": "text/x-python",
   "name": "python",
   "nbconvert_exporter": "python",
   "pygments_lexer": "ipython3",
   "version": "3.12.3"
  },
  "widgets": {
   "application/vnd.jupyter.widget-state+json": {
    "state": {},
    "version_major": 2,
    "version_minor": 0
   }
  }
 },
 "nbformat": 4,
 "nbformat_minor": 5
}
