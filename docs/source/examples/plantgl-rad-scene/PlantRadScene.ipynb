{
 "cells": [
  {
   "cell_type": "markdown",
   "id": "0c1af954",
   "metadata": {},
   "source": [
    "# Simple simulation example"
   ]
  },
  {
   "cell_type": "code",
   "execution_count": 1,
   "id": "2cce631a-79d1-45f0-b96b-cb7a11d605e4",
   "metadata": {},
   "outputs": [],
   "source": [
    "from openalea.spice.simulator import Simulator\n",
    "from openalea.spice import Vec3"
   ]
  },
  {
   "cell_type": "markdown",
   "id": "605313ff",
   "metadata": {},
   "source": [
    "### Setup configuration"
   ]
  },
  {
   "cell_type": "code",
   "execution_count": 2,
   "id": "669d08f6",
   "metadata": {},
   "outputs": [],
   "source": [
    "simulator = Simulator()\n",
    "simulator.readConfiguration(\"simulation.ini\")\n",
    "simulator.addEnvFromFile(\"./assets/testChamber.rad\", \"./PO\")\n",
    "simulator.addVirtualDiskSensorsFromFile(\"./captors/captors_expe1.csv\")\n",
    "simulator.addFaceSensorsFromLpyFile(\"./assets/rose-simple4.lpy\", Vec3(1280.0, 860.0, 980.0))"
   ]
  },
  {
   "cell_type": "markdown",
   "id": "847b8441",
   "metadata": {},
   "source": [
    "### Run the simulation"
   ]
  },
  {
   "cell_type": "code",
   "execution_count": 3,
   "id": "0926525d",
   "metadata": {},
   "outputs": [
    {
     "name": "stdout",
     "output_type": "stream",
     "text": [
      "Wavelength: 600 - 655\n",
      "Transparent material: Makrolon\n",
      "Build photonmap...Backface Culling ON\n",
      "\n",
      "Maximum number of threads is 8\n",
      "nb photons per lights: 125000\n",
      "\n",
      "Tracing photons from light n° 1/8...\n",
      "Done!\n",
      "calculating sensor energy...\n",
      "Tracing photons from light n° 2/8...\n",
      "Tracing photons from light n° 3/8...\n",
      "Tracing photons from light n° 4/8...\n",
      "Tracing photons from light n° 5/8...\n",
      "Tracing photons from light n° 6/8...\n",
      "Tracing photons from light n° 7/8...\n",
      "Tracing photons from light n° 8/8...\n",
      "Max depth possible: 38\n",
      "calculating sensor energy...\n",
      "Time taken: 1.5658931732177734\n"
     ]
    }
   ],
   "source": [
    "simulator.run()"
   ]
  },
  {
   "cell_type": "markdown",
   "id": "28775ab8",
   "metadata": {},
   "source": [
    "### Calibration the result"
   ]
  },
  {
   "cell_type": "code",
   "execution_count": 4,
   "id": "83ee654a",
   "metadata": {},
   "outputs": [],
   "source": [
    "# calibrated_res = simulator.calibrateResults(\"spectrum/chambre1_spectrum\", \"points_calibration.csv\")"
   ]
  },
  {
   "cell_type": "markdown",
   "id": "31ca1949",
   "metadata": {},
   "source": [
    "### Write the result"
   ]
  },
  {
   "cell_type": "code",
   "execution_count": 4,
   "id": "4617bea6-8395-4691-a5a3-9134da70c813",
   "metadata": {},
   "outputs": [
    {
     "name": "stdout",
     "output_type": "stream",
     "text": [
      "Done write sensor energy!\n",
      "Done write sensor energy!\n"
     ]
    }
   ],
   "source": [
    "simulator.results.writeResults()"
   ]
  },
  {
   "cell_type": "markdown",
   "id": "a8512d5a",
   "metadata": {},
   "source": [
    "### Visualize scene with OAWidgets"
   ]
  },
  {
   "cell_type": "code",
   "execution_count": null,
   "id": "230e970a-20c1-4911-a6b9-857153ad407b",
   "metadata": {
    "scrolled": true
   },
   "outputs": [],
   "source": [
    "simulator.visualizeScene(\"oawidgets\")"
   ]
  },
  {
   "cell_type": "code",
   "execution_count": 7,
   "id": "036f7d1a-8c20-4271-b215-fa6609421148",
   "metadata": {},
   "outputs": [
    {
     "data": {
      "application/vnd.jupyter.widget-view+json": {
       "model_id": "720abe8b6a0d4497832f61a9c0170a2c",
       "version_major": 2,
       "version_minor": 0
      },
      "text/plain": [
       "Plot(antialias=3, axes=['x', 'y', 'z'], axes_helper=1.0, axes_helper_colors=[16711680, 65280, 255], background…"
      ]
     },
     "execution_count": 7,
     "metadata": {},
     "output_type": "execute_result"
    }
   ],
   "source": [
    "simulator.visualizeResults(\"oawidgets\")"
   ]
  },
  {
   "cell_type": "code",
   "execution_count": 8,
   "id": "13059277",
   "metadata": {},
   "outputs": [
    {
     "data": {
      "application/vnd.jupyter.widget-view+json": {
       "model_id": "39fcae33a96746b5a3d942146e72b3fa",
       "version_major": 2,
       "version_minor": 0
      },
      "text/plain": [
       "Plot(antialias=3, axes=['x', 'y', 'z'], axes_helper=1.0, axes_helper_colors=[16711680, 65280, 255], background…"
      ]
     },
     "execution_count": 8,
     "metadata": {},
     "output_type": "execute_result"
    }
   ],
   "source": [
    "simulator.visualizePhotons(\"oawidgets\")"
   ]
  },
  {
   "cell_type": "markdown",
   "id": "06d92257",
   "metadata": {},
   "source": [
    "### Test Tmin in complete scene"
   ]
  },
  {
   "cell_type": "code",
   "execution_count": 9,
   "id": "bb8c943d-231b-41ef-b0d1-6cfaa480f0e7",
   "metadata": {},
   "outputs": [
    {
     "name": "stdout",
     "output_type": "stream",
     "text": [
      "Transparent material: Makrolon\n",
      "Backface Culling ON\n",
      "---------------------------------\n",
      "Test Tmin = 1e-06\n",
      "Number of photons received in total is 7923\n",
      "---------------------------------\n",
      "---------------------------------\n",
      "Test Tmin = 1e-05\n",
      "Maximum number of threads is 8\n",
      "nb photons per lights: 125000\n",
      "\n",
      "Tracing photons from light n° 1/8...\n",
      "Tracing photons from light n° 2/8...\n",
      "Tracing photons from light n° 3/8...\n",
      "Tracing photons from light n° 4/8...\n",
      "Tracing photons from light n° 5/8...\n",
      "Tracing photons from light n° 6/8...\n",
      "Tracing photons from light n° 7/8...\n",
      "Tracing photons from light n° 8/8...\n",
      "Max depth possible: 37\n",
      "Number of photons received in total is 7960\n",
      "---------------------------------\n",
      "---------------------------------\n",
      "Test Tmin = 0.0001\n",
      "Maximum number of threads is 8\n",
      "nb photons per lights: 125000\n",
      "\n",
      "Tracing photons from light n° 1/8...\n",
      "Tracing photons from light n° 2/8...\n",
      "Tracing photons from light n° 3/8...\n",
      "Tracing photons from light n° 4/8...\n",
      "Tracing photons from light n° 5/8...\n",
      "Tracing photons from light n° 6/8...\n",
      "Tracing photons from light n° 7/8...\n",
      "Tracing photons from light n° 8/8...\n",
      "Max depth possible: 37\n",
      "Maximum number of threads is 8\n",
      "nb photons per lights: 125000\n",
      "\n",
      "Tracing photons from light n° 1/8...\n",
      "Tracing photons from light n° 2/8...\n",
      "Tracing photons from light n° 3/8...\n",
      "Tracing photons from light n° 4/8...\n",
      "Tracing photons from light n° 5/8...\n",
      "Tracing photons from light n° 6/8...\n",
      "Tracing photons from light n° 7/8...\n",
      "Tracing photons from light n° 8/8...\n",
      "Max depth possible: 39\n",
      "Number of photons received in total is 7575\n",
      "---------------------------------\n",
      "---------------------------------\n",
      "Test Tmin = 0.001\n",
      "Maximum number of threads is 8\n",
      "nb photons per lights: 125000\n",
      "\n",
      "Tracing photons from light n° 1/8...\n",
      "Tracing photons from light n° 2/8...\n",
      "Tracing photons from light n° 3/8...\n",
      "Tracing photons from light n° 4/8...\n",
      "Tracing photons from light n° 5/8...\n",
      "Tracing photons from light n° 6/8...\n",
      "Tracing photons from light n° 7/8...\n",
      "Tracing photons from light n° 8/8...\n",
      "Max depth possible: 37\n",
      "Number of photons received in total is 7396\n",
      "---------------------------------\n",
      "---------------------------------\n",
      "Test Tmin = 0.01\n",
      "Maximum number of threads is 8\n",
      "nb photons per lights: 125000\n",
      "\n",
      "Tracing photons from light n° 1/8...\n",
      "Tracing photons from light n° 2/8...\n",
      "Tracing photons from light n° 3/8...\n",
      "Tracing photons from light n° 4/8...\n",
      "Tracing photons from light n° 5/8...\n",
      "Tracing photons from light n° 6/8...\n",
      "Tracing photons from light n° 7/8...\n",
      "Tracing photons from light n° 8/8...\n",
      "Max depth possible: 37\n",
      "Number of photons received in total is 7380\n",
      "---------------------------------\n",
      "---------------------------------\n",
      "Test Tmin = 0.1\n",
      "Maximum number of threads is 8\n",
      "nb photons per lights: 125000\n",
      "\n",
      "Tracing photons from light n° 1/8...\n",
      "Tracing photons from light n° 2/8...\n",
      "Tracing photons from light n° 3/8...\n",
      "Tracing photons from light n° 4/8...\n",
      "Tracing photons from light n° 5/8...\n",
      "Tracing photons from light n° 6/8...\n",
      "Tracing photons from light n° 7/8...\n",
      "Tracing photons from light n° 8/8...\n",
      "Max depth possible: 37\n",
      "Number of photons received in total is 7389\n",
      "---------------------------------\n",
      "---------------------------------\n",
      "Test Tmin = 1.0\n",
      "Maximum number of threads is 8\n",
      "nb photons per lights: 125000\n",
      "\n",
      "Tracing photons from light n° 1/8...\n",
      "Tracing photons from light n° 2/8...\n",
      "Tracing photons from light n° 3/8...\n",
      "Tracing photons from light n° 4/8...\n",
      "Tracing photons from light n° 5/8...\n",
      "Tracing photons from light n° 6/8...\n",
      "Tracing photons from light n° 7/8...\n",
      "Tracing photons from light n° 8/8...\n",
      "Max depth possible: 37\n",
      "Number of photons received in total is 7456\n",
      "---------------------------------\n",
      "---------------------------------\n",
      "Test Tmin = 10.0\n",
      "Maximum number of threads is 8\n",
      "nb photons per lights: 125000\n",
      "\n",
      "Tracing photons from light n° 1/8...\n",
      "Tracing photons from light n° 2/8...\n",
      "Tracing photons from light n° 3/8...\n",
      "Tracing photons from light n° 4/8...\n",
      "Tracing photons from light n° 5/8...\n",
      "Tracing photons from light n° 6/8...\n",
      "Tracing photons from light n° 7/8...\n",
      "Tracing photons from light n° 8/8...\n",
      "Max depth possible: 37\n",
      "Number of photons received in total is 8487\n",
      "---------------------------------\n",
      "---------------------------------\n",
      "Test Tmin = 100.0\n",
      "Maximum number of threads is 8\n",
      "nb photons per lights: 125000\n",
      "\n",
      "Tracing photons from light n° 1/8...\n",
      "Tracing photons from light n° 2/8...\n",
      "Tracing photons from light n° 3/8...\n",
      "Tracing photons from light n° 4/8...\n",
      "Tracing photons from light n° 5/8...\n",
      "Tracing photons from light n° 6/8...\n",
      "Tracing photons from light n° 7/8...\n",
      "Tracing photons from light n° 8/8...\n",
      "Max depth possible: 38\n",
      "Number of photons received in total is 8554\n",
      "---------------------------------\n",
      "---------------------------------\n",
      "Test Tmin = 1000.0\n",
      "Maximum number of threads is 8\n",
      "nb photons per lights: 125000\n",
      "\n",
      "Tracing photons from light n° 1/8...\n",
      "Tracing photons from light n° 2/8...\n",
      "Tracing photons from light n° 3/8...\n",
      "Tracing photons from light n° 4/8...\n",
      "Tracing photons from light n° 5/8...\n",
      "Tracing photons from light n° 6/8...\n",
      "Tracing photons from light n° 7/8...\n",
      "Tracing photons from light n° 8/8...\n",
      "Max depth possible: 13\n",
      "Number of photons received in total is 2267\n",
      "---------------------------------\n",
      "---------------------------------\n",
      "Test Tmin = 10000.0\n",
      "Maximum number of threads is 8\n",
      "nb photons per lights: 125000\n",
      "\n",
      "Tracing photons from light n° 1/8...\n",
      "Tracing photons from light n° 2/8...\n",
      "Tracing photons from light n° 3/8...\n",
      "Tracing photons from light n° 4/8...\n",
      "Tracing photons from light n° 5/8...\n",
      "Tracing photons from light n° 6/8...\n",
      "Tracing photons from light n° 7/8...\n",
      "Tracing photons from light n° 8/8...\n",
      "Max depth possible: 0\n",
      "Number of photons received in total is 0\n",
      "---------------------------------\n"
     ]
    },
    {
     "data": {
      "image/png": "[encoded data removed]",
      "text/plain": [
       "<Figure size 640x480 with 1 Axes>"
      ]
     },
     "metadata": {},
     "output_type": "display_data"
    }
   ],
   "source": [
    "simulator.test_t_min(int(1e6), 1e-6, 11, False)"
   ]
  },
  {
   "cell_type": "markdown",
   "id": "40364181",
   "metadata": {},
   "source": [
    "### Test Tmin in scene with only lamps and captors"
   ]
  },
  {
   "cell_type": "code",
   "execution_count": 10,
   "id": "ddd5072b",
   "metadata": {},
   "outputs": [
    {
     "name": "stdout",
     "output_type": "stream",
     "text": [
      "Transparent material: Makrolon\n",
      "---------------------------------Backface Culling ON\n",
      "\n",
      "Test Tmin = 1e-06\n",
      "Maximum number of threads is 8\n",
      "nb photons per lights: 1250000\n",
      "\n",
      "Tracing photons from light n° 1/8...\n",
      "Tracing photons from light n° 2/8...\n",
      "Tracing photons from light n° 3/8...\n",
      "Tracing photons from light n° 4/8...\n",
      "Tracing photons from light n° 5/8...\n",
      "Tracing photons from light n° 6/8...\n",
      "Tracing photons from light n° 7/8...\n",
      "Tracing photons from light n° 8/8...\n",
      "Max depth possible: 5\n",
      "Number of photons received in total is 28358\n",
      "---------------------------------\n",
      "---------------------------------\n",
      "Test Tmin = 1e-05\n",
      "Maximum number of threads is 8\n",
      "nb photons per lights: 1250000\n",
      "\n",
      "Tracing photons from light n° 1/8...\n",
      "Tracing photons from light n° 2/8...\n",
      "Tracing photons from light n° 3/8...\n",
      "Tracing photons from light n° 4/8...\n",
      "Tracing photons from light n° 5/8...\n",
      "Tracing photons from light n° 6/8...\n",
      "Tracing photons from light n° 7/8...\n",
      "Tracing photons from light n° 8/8...\n",
      "Max depth possible: 5\n",
      "Number of photons received in total is 28358\n",
      "---------------------------------\n",
      "---------------------------------\n",
      "Test Tmin = 0.0001\n",
      "Maximum number of threads is 8\n",
      "nb photons per lights: 1250000\n",
      "\n",
      "Tracing photons from light n° 1/8...\n",
      "Tracing photons from light n° 2/8...\n",
      "Tracing photons from light n° 3/8...\n",
      "Tracing photons from light n° 4/8...\n",
      "Tracing photons from light n° 5/8...\n",
      "Tracing photons from light n° 6/8...\n",
      "Tracing photons from light n° 7/8...\n",
      "Tracing photons from light n° 8/8...\n",
      "Max depth possible: 5\n",
      "Number of photons received in total is 28355\n",
      "---------------------------------\n",
      "---------------------------------\n",
      "Test Tmin = 0.001\n",
      "Maximum number of threads is 8\n",
      "nb photons per lights: 1250000\n",
      "\n",
      "Tracing photons from light n° 1/8...\n",
      "Tracing photons from light n° 2/8...\n",
      "Tracing photons from light n° 3/8...\n",
      "Tracing photons from light n° 4/8...\n",
      "Tracing photons from light n° 5/8...\n",
      "Tracing photons from light n° 6/8...\n",
      "Tracing photons from light n° 7/8...\n",
      "Tracing photons from light n° 8/8...\n",
      "Max depth possible: 5\n",
      "Number of photons received in total is 25636\n",
      "---------------------------------\n",
      "---------------------------------\n",
      "Test Tmin = 0.01\n",
      "Maximum number of threads is 8\n",
      "Number of photons received in total is 25636\n",
      "---------------------------------\n",
      "---------------------------------\n",
      "Test Tmin = 0.1\n",
      "nb photons per lights: 1250000\n",
      "\n",
      "Tracing photons from light n° 1/8...\n",
      "Tracing photons from light n° 2/8...\n",
      "Tracing photons from light n° 3/8...\n",
      "Tracing photons from light n° 4/8...\n",
      "Tracing photons from light n° 5/8...\n",
      "Tracing photons from light n° 6/8...\n",
      "Tracing photons from light n° 7/8...\n",
      "Tracing photons from light n° 8/8...\n",
      "Max depth possible: 5\n",
      "Maximum number of threads is 8\n",
      "nb photons per lights: 1250000\n",
      "\n",
      "Tracing photons from light n° 1/8...\n",
      "Tracing photons from light n° 2/8...\n",
      "Tracing photons from light n° 3/8...\n",
      "Tracing photons from light n° 4/8...\n",
      "Tracing photons from light n° 5/8...\n",
      "Tracing photons from light n° 6/8...\n",
      "Tracing photons from light n° 7/8...\n",
      "Tracing photons from light n° 8/8...\n",
      "Max depth possible: 5\n",
      "Number of photons received in total is 25637\n",
      "---------------------------------\n",
      "---------------------------------\n",
      "Test Tmin = 1.0\n",
      "Maximum number of threads is 8\n",
      "nb photons per lights: 1250000\n",
      "\n",
      "Tracing photons from light n° 1/8...\n",
      "Tracing photons from light n° 2/8...\n",
      "Tracing photons from light n° 3/8...\n",
      "Tracing photons from light n° 4/8...\n",
      "Tracing photons from light n° 5/8...\n",
      "Tracing photons from light n° 6/8...\n",
      "Tracing photons from light n° 7/8...\n",
      "Tracing photons from light n° 8/8...\n",
      "Max depth possible: 5\n",
      "Number of photons received in total is 25631\n",
      "---------------------------------\n",
      "---------------------------------\n",
      "Test Tmin = 10.0\n",
      "Maximum number of threads is 8\n",
      "nb photons per lights: 1250000\n",
      "\n",
      "Tracing photons from light n° 1/8...\n",
      "Tracing photons from light n° 2/8...\n",
      "Tracing photons from light n° 3/8...\n",
      "Tracing photons from light n° 4/8...\n",
      "Tracing photons from light n° 5/8...\n",
      "Tracing photons from light n° 6/8...\n",
      "Tracing photons from light n° 7/8...\n",
      "Tracing photons from light n° 8/8...\n",
      "Max depth possible: 2\n",
      "Number of photons received in total is 25528\n",
      "---------------------------------\n",
      "---------------------------------\n",
      "Test Tmin = 100.0\n",
      "Maximum number of threads is 8\n",
      "Number of photons received in total is 25516\n",
      "---------------------------------\n",
      "---------------------------------\n",
      "Test Tmin = 1000.0\n",
      "nb photons per lights: 1250000\n",
      "\n",
      "Tracing photons from light n° 1/8...\n",
      "Tracing photons from light n° 2/8...\n",
      "Tracing photons from light n° 3/8...\n",
      "Tracing photons from light n° 4/8...\n",
      "Tracing photons from light n° 5/8...\n",
      "Tracing photons from light n° 6/8...\n",
      "Tracing photons from light n° 7/8...\n",
      "Tracing photons from light n° 8/8...\n",
      "Max depth possible: 2\n",
      "Number of photons received in total is 16665\n",
      "---------------------------------\n",
      "---------------------------------\n",
      "Test Tmin = 10000.0\n",
      "Maximum number of threads is 8\n",
      "nb photons per lights: 1250000\n",
      "\n",
      "Tracing photons from light n° 1/8...\n",
      "Tracing photons from light n° 2/8...\n",
      "Tracing photons from light n° 3/8...\n",
      "Tracing photons from light n° 4/8...\n",
      "Tracing photons from light n° 5/8...\n",
      "Tracing photons from light n° 6/8...\n",
      "Tracing photons from light n° 7/8...\n",
      "Tracing photons from light n° 8/8...\n",
      "Max depth possible: 1\n",
      "Maximum number of threads is 8\n",
      "nb photons per lights: 1250000\n",
      "\n",
      "Tracing photons from light n° 1/8...\n",
      "Tracing photons from light n° 2/8...\n",
      "Tracing photons from light n° 3/8...\n",
      "Tracing photons from light n° 4/8...\n",
      "Tracing photons from light n° 5/8...\n",
      "Tracing photons from light n° 6/8...\n",
      "Tracing photons from light n° 7/8...\n",
      "Tracing photons from light n° 8/8...\n",
      "Max depth possible: 0\n",
      "Number of photons received in total is 0\n",
      "---------------------------------\n"
     ]
    },
    {
     "data": {
      "image/png": "[encoded data removed]",
      "text/plain": [
       "<Figure size 640x480 with 1 Axes>"
      ]
     },
     "metadata": {},
     "output_type": "display_data"
    }
   ],
   "source": [
    "simulator.test_t_min(int(1e7), 1e-6, 11, True)"
   ]
  }
 ],
 "metadata": {
  "kernelspec": {
   "display_name": "Python 3 (ipykernel)",
   "language": "python",
   "name": "python3"
  },
  "language_info": {
   "codemirror_mode": {
    "name": "ipython",
    "version": 3
   },
   "file_extension": ".py",
   "mimetype": "text/x-python",
   "name": "python",
   "nbconvert_exporter": "python",
   "pygments_lexer": "ipython3",
   "version": "3.12.3"
  },
  "widgets": {
   "application/vnd.jupyter.widget-state+json": {
    "state": {},
    "version_major": 2,
    "version_minor": 0
   }
  }
 },
 "nbformat": 4,
 "nbformat_minor": 5
}
