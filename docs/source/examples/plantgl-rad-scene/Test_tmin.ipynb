{
 "cells": [
  {
   "cell_type": "markdown",
   "id": "2aad4573-aa8d-41c6-bb24-c96465e970fc",
   "metadata": {},
   "source": [
    "# Test Tmin"
   ]
  },
  {
   "cell_type": "code",
   "execution_count": null,
   "id": "ab4bb157-8b8b-4250-9615-b498457c0509",
   "metadata": {},
   "outputs": [],
   "source": [
    "from openalea.spice.simulator import Simulator"
   ]
  },
  {
   "cell_type": "code",
   "execution_count": null,
   "id": "b2ceac29-db94-41f6-ab34-f016f381406e",
   "metadata": {},
   "outputs": [],
   "source": [
    "simulator = Simulator(config_file=\"simulation.ini\")\n",
    "simulator.addEnvFromFile(\"./assets/testChamber.rad\", \"./PO\")\n",
    "simulator.addVirtualDiskSensorsFromFile(\"./captors/captors_expe1.csv\")"
   ]
  },
  {
   "cell_type": "markdown",
   "id": "40c96231-be75-4a8e-9d60-7256bbdb36f5",
   "metadata": {},
   "source": [
    "### Test Tmin in complete scene"
   ]
  },
  {
   "cell_type": "code",
   "execution_count": null,
   "id": "190b5859-7c7e-4923-a1a4-929bff275d68",
   "metadata": {
    "scrolled": true
   },
   "outputs": [],
   "source": [
    "simulator.test_t_min(int(1e6), 1e-6, 11, False)"
   ]
  },
  {
   "cell_type": "markdown",
   "id": "6a590ac0-b19b-4a85-8bd1-04c1aba94503",
   "metadata": {},
   "source": [
    "### Test Tmin in scene with only lamps and captors"
   ]
  },
  {
   "cell_type": "code",
   "execution_count": null,
   "id": "bf7979a6-1764-4c81-8d1e-a849e6cf7ddd",
   "metadata": {
    "scrolled": true
   },
   "outputs": [],
   "source": [
    "simulator.test_t_min(int(1e7), 1e-6, 11, True)"
   ]
  }
 ],
 "metadata": {
  "kernelspec": {
   "display_name": "Python 3 (ipykernel)",
   "language": "python",
   "name": "python3"
  },
  "language_info": {
   "codemirror_mode": {
    "name": "ipython",
    "version": 3
   },
   "file_extension": ".py",
   "mimetype": "text/x-python",
   "name": "python",
   "nbconvert_exporter": "python",
   "pygments_lexer": "ipython3",
   "version": "3.12.3"
  },
  "widgets": {
   "application/vnd.jupyter.widget-state+json": {
    "state": {},
    "version_major": 2,
    "version_minor": 0
   }
  }
 },
 "nbformat": 4,
 "nbformat_minor": 5
}
